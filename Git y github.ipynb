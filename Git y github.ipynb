{
 "cells": [
  {
   "cell_type": "markdown",
   "metadata": {},
   "source": [
    "# GIT y Github\n",
    "\n",
    "Para llevar todos los archivos del directorio que estoy parado a stage area\n",
    "\n",
    "``git add .``\n",
    "\n",
    "Para moverme a otra rama\n",
    "\n",
    "``git checkout nombreDelaRama``\n",
    "\n",
    "Para crear un commit (de lo previamente llevado a stage area)\n",
    "\n",
    "``git commit -m \"mensaje de commit\"``\n",
    "\n",
    "Para llevarlo al repositorio desde el que hice el commit\n",
    "\n",
    "``git push``\n",
    "\n",
    "Si el repositorio lo comencé en local debo indicarle el repositorio remoto. Generalmente se lo llama \"origin\" pero el nombre lo define uno en el comando.\n",
    "\n",
    "``git remote add nombreDelrepo https://github.com/nombredelrepo.git``\n",
    "\n",
    "Esto supone que ya estamos hemos cargado nuestras credenciales previamente. Esto se ejecuta con\n",
    "\n",
    "`` git config --global user.name \"javovelez\"``\n",
    "\n",
    "Para ver qué usuario está cargado podemos ejecutar\n",
    "\n",
    "``git config user.name``\n",
    "\n",
    "Cuando hagamos push nos pedirá la contraseña de github. Para evitar esto podemos crear una clave ssh con el comando \n",
    "\n",
    "``ssh-keygen``\n",
    "\n",
    "Luego dentro de  /home/user/.ssh encontraremos la clave pública llamada d_rsa.pub y para visualizarla ejecutamos\n",
    "\n",
    "``cat ~/.ssh/id_rsa.pub``\n",
    "\n",
    "Luego copiamos el resultado y lo pegamos en donde nos indica github.\n",
    "\n",
    "Para cambiarle el nombre a una rama ejecutamos\n",
    "\n",
    "``git branch -m <nuevo-nombre>``\n",
    "\n",
    "Y para cambiarle el nombre al remoto (origin es el nombre que le hemos puesto al repositorio remoto)\n",
    "\n",
    "``git push --set-upstream origin 13.0``\n",
    "\n",
    "Para ver en que estado estamos actualmente (que archivos estan en stage area y tienen cambios)\n",
    "\n",
    "``git status``\n",
    "Para eliminar una extención debemos agregar al archivo .gitignore *.pdf \n",
    "\n",
    "para traer cambios que están en el repositorio ejecutamos\n",
    "\n",
    "``git pull``\n",
    "\n",
    "Para ir a un determinado commit previo:\n",
    "\n",
    "``git reset a330d9c4af1b007fe1436f979ff0b9f66613136e --hard``"
   ]
  },
  {
   "cell_type": "code",
   "execution_count": null,
   "metadata": {},
   "outputs": [],
   "source": []
  }
 ],
 "metadata": {
  "kernelspec": {
   "display_name": "Python 3",
   "language": "python",
   "name": "python3"
  },
  "language_info": {
   "codemirror_mode": {
    "name": "ipython",
    "version": 3
   },
   "file_extension": ".py",
   "mimetype": "text/x-python",
   "name": "python",
   "nbconvert_exporter": "python",
   "pygments_lexer": "ipython3",
   "version": "3.7.7"
  }
 },
 "nbformat": 4,
 "nbformat_minor": 4
}
