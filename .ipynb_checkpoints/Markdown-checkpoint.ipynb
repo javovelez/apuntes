{
 "cells": [
  {
   "cell_type": "markdown",
   "metadata": {},
   "source": [
    "# Markdown\n",
    "\n",
    "Para poner signo de \"menor\" debo escribir ``&lt ;`` (sin el espacio enrte &lt y la coma)\n",
    "\n",
    "Con # indicamos que es un título, usando ## indicamos que es un subtítulo y así susecivamente.\n",
    "\n",
    "Con > iniciamos una cita\n",
    "\n",
    ">cita \n",
    "\n",
    "Para hacer listas debemos cmenzar la horación con \"*\", \"-\";o un número. \n",
    "\n"
   ]
  },
  {
   "cell_type": "code",
   "execution_count": null,
   "metadata": {},
   "outputs": [],
   "source": []
  }
 ],
 "metadata": {
  "kernelspec": {
   "display_name": "Python 3",
   "language": "python",
   "name": "python3"
  },
  "language_info": {
   "codemirror_mode": {
    "name": "ipython",
    "version": 3
   },
   "file_extension": ".py",
   "mimetype": "text/x-python",
   "name": "python",
   "nbconvert_exporter": "python",
   "pygments_lexer": "ipython3",
   "version": "3.7.7"
  }
 },
 "nbformat": 4,
 "nbformat_minor": 4
}
