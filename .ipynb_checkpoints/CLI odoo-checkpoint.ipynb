{
 "cells": [
  {
   "cell_type": "markdown",
   "metadata": {},
   "source": [
    "# CLI odoo\n",
    "\n",
    "``-d base ``\n",
    "\n",
    "``-i base,account,project, ``\n",
    "\n",
    "``adhoc -i ``\n",
    "\n",
    "``--db-filter=``\n",
    "\n",
    "``-p8070``\n",
    "\n",
    "``-c /path/odoo13.conf``\n",
    "\n",
    "``--log-level=debug``\n",
    "\n",
    "``-u my_library ``\n",
    "\n",
    "``--without-demo=all ``\n",
    "\n",
    "``--load-language es_AR``\n",
    "\n",
    "``sudo service postgresql start``\n",
    "\n",
    "``psql -l``\n",
    "\n",
    "``sudo service postgresql start``\n",
    "\n",
    "``sudo systemctl odoo/postgreql start``\n",
    "\n",
    "Para entrar a una db\n",
    "\n",
    "``psql test-12.0``\n",
    "\n",
    "Una vez dentro de la db puedo ver una tabla\n",
    "\n",
    "``\\d library_book;``\n",
    "\n",
    "Para salir``\\q`` y luego presione ENTER  de psql o ``ctrl+d``\n",
    "\n",
    "``dropdb nombredelabaseaeliminar``\n",
    "\n",
    "``pg_dump 13-base > prueba.sql (funciona)``\n",
    "\n",
    "Para restaurar\n",
    "\n",
    "``psql -U username -W -h host basename < basename.sql``\n"
   ]
  },
  {
   "cell_type": "code",
   "execution_count": null,
   "metadata": {},
   "outputs": [],
   "source": []
  }
 ],
 "metadata": {
  "kernelspec": {
   "display_name": "Python 3",
   "language": "python",
   "name": "python3"
  },
  "language_info": {
   "codemirror_mode": {
    "name": "ipython",
    "version": 3
   },
   "file_extension": ".py",
   "mimetype": "text/x-python",
   "name": "python",
   "nbconvert_exporter": "python",
   "pygments_lexer": "ipython3",
   "version": "3.7.7"
  }
 },
 "nbformat": 4,
 "nbformat_minor": 4
}
